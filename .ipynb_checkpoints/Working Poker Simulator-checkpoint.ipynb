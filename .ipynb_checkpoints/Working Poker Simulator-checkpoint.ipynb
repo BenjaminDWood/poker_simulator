{
 "cells": [
  {
   "cell_type": "code",
   "execution_count": 1,
   "id": "b00c517b-ca54-4195-8047-d9dc660218e8",
   "metadata": {},
   "outputs": [],
   "source": [
    "import random"
   ]
  },
  {
   "cell_type": "code",
   "execution_count": 27,
   "id": "5341e624-3abd-4a68-9554-1aa19b13905f",
   "metadata": {},
   "outputs": [],
   "source": [
    "#Initial code to set the deck\n",
    "Deck = list(range(1,53))\n",
    "\n",
    "Deck[0]= 'Ace of Hearts'\n",
    "Deck[1]= 'Ace of Spades'\n",
    "Deck[2]= 'Ace of Diamonds'\n",
    "Deck[3]= 'Ace of Clubs'\n",
    "Deck[4]= 'Two of Hearts'\n",
    "Deck[5]= 'Two of Spades'\n",
    "Deck[6]= 'Two of Diamonds'\n",
    "Deck[7]= 'Two of Clubs'\n",
    "Deck[8]= 'Three of Hearts'\n",
    "Deck[9]= 'Three of Spades'\n",
    "Deck[10]= 'Three of Diamonds'\n",
    "Deck[11]= 'Three of Clubs'\n",
    "Deck[12]= 'Four of Hearts'\n",
    "Deck[13]= 'Four of Spades'\n",
    "Deck[14]= 'Four of Diamonds'\n",
    "Deck[15]= 'Four of Clubs'\n",
    "Deck[16]= 'Five of Hearts'\n",
    "Deck[17]= 'Five of Spades'\n",
    "Deck[18]= 'Five of Diamonds'\n",
    "Deck[19]= 'Five of Clubs'\n",
    "Deck[20]= 'Six of Hearts'\n",
    "Deck[21]= 'Six of Spades'\n",
    "Deck[22]= 'Six of Diamonds'\n",
    "Deck[23]= 'Six of Clubs'\n",
    "Deck[24]= 'Seven of Hearts'\n",
    "Deck[25]= 'Seven of Spades'\n",
    "Deck[26]= 'Seven of Diamonds'\n",
    "Deck[27]= 'Seven of Clubs'\n",
    "Deck[28]= 'Eight of Hearts'\n",
    "Deck[29]= 'Eight of Spades'\n",
    "Deck[30]= 'Eight of Diamonds'\n",
    "Deck[31]= 'Eight of Clubs'\n",
    "Deck[32]= 'Nine of Hearts'\n",
    "Deck[33]= 'Nine of Spades'\n",
    "Deck[34]= 'Nine of Diamonds'\n",
    "Deck[35]= 'Nine of Clubs'\n",
    "Deck[36]= 'Ten of Hearts'\n",
    "Deck[37]= 'Ten of Spades'\n",
    "Deck[38]= 'Ten of Diamonds'\n",
    "Deck[39]= 'Ten of Clubs'\n",
    "Deck[40]= 'Jack of Hearts'\n",
    "Deck[41]= 'Jack of Spades'\n",
    "Deck[42]= 'Jack of Diamonds'\n",
    "Deck[43]= 'Jack of Clubs'\n",
    "Deck[44]= 'Queen of Hearts'\n",
    "Deck[45]= 'Queen of Spades'\n",
    "Deck[46]= 'Queen of Diamonds'\n",
    "Deck[47]= 'Queen of Clubs'\n",
    "Deck[48]= 'King of Hearts'\n",
    "Deck[49]= 'King of Spades'\n",
    "Deck[50]= 'King of Diamonds'\n",
    "Deck[51]= 'King of Clubs'\n",
    "\n",
    "Players = ['Ben', 'My Anh', 'Chocco', 'Oreo']"
   ]
  },
  {
   "cell_type": "code",
   "execution_count": 29,
   "id": "deacf518-c2f5-4d48-8df6-fc8faae7dd78",
   "metadata": {},
   "outputs": [],
   "source": [
    "# Turning this to a dictionary\n",
    "\n",
    "deck_dict = {}\n",
    "\n",
    "for c in Deck:\n",
    "    parts = c.split(\" of \")\n",
    "    value, suit = parts[0], parts[1]\n",
    "    deck_dict[c] = {\"value\": value, \"suit\": suit}"
   ]
  },
  {
   "cell_type": "markdown",
   "id": "034a617e-dd0e-46c0-b141-696f8aca7976",
   "metadata": {},
   "source": [
    "# Winning dict\n",
    "\n",
    "Assign cards values to create an order.\n",
    "Assign each card name a rank (these two will also help incase of a tie of some kind)\n",
    "\n",
    "Checking for straights: So the max-min will == 4, so if all cards are unique and max-min == 4, it's a straight? A-5 straight though\n",
    "Flush: values.count thingy based on suit\n",
    "\n",
    "Values count for checking pairs etc."
   ]
  },
  {
   "cell_type": "code",
   "execution_count": 55,
   "id": "9adb65a1-12ef-4b28-8005-0d3dcdb57f61",
   "metadata": {},
   "outputs": [
    {
     "ename": "SyntaxError",
     "evalue": "expected ':' (1684947969.py, line 1)",
     "output_type": "error",
     "traceback": [
      "\u001b[1;36m  Cell \u001b[1;32mIn[55], line 1\u001b[1;36m\u001b[0m\n\u001b[1;33m    def flush_checker(player, hand, community)\u001b[0m\n\u001b[1;37m                                              ^\u001b[0m\n\u001b[1;31mSyntaxError\u001b[0m\u001b[1;31m:\u001b[0m expected ':'\n"
     ]
    }
   ],
   "source": [
    "def flush_checker(player, hand, community):\n",
    "    cards = hand[Players] + community\n",
    "\n",
    "    for c in cards:\n",
    "        \n",
    "    "
   ]
  },
  {
   "cell_type": "code",
   "execution_count": 31,
   "id": "9a82504b-6a32-4e79-a314-e854cc4c980d",
   "metadata": {},
   "outputs": [],
   "source": [
    "#Crazy task of adding in the winning card dictionary...\n",
    "\n"
   ]
  },
  {
   "cell_type": "code",
   "execution_count": 33,
   "id": "096ad712-edae-4392-b3e8-edc0e69255db",
   "metadata": {},
   "outputs": [
    {
     "name": "stdout",
     "output_type": "stream",
     "text": [
      "Let's get ready to rumble!!!\n"
     ]
    }
   ],
   "source": [
    "if len(Deck) == 52:\n",
    "    print(\"Let's get ready to rumble!!!\")\n",
    "else:\n",
    "    print(\"Please deal out the cards first!\")"
   ]
  },
  {
   "cell_type": "code",
   "execution_count": 35,
   "id": "ce21592f-d751-43cf-990e-137497c62b5e",
   "metadata": {},
   "outputs": [
    {
     "name": "stdout",
     "output_type": "stream",
     "text": [
      "The cards are dealt...\n",
      "Ben's hand:['Nine of Spades', 'Two of Hearts']\n",
      "My Anh's hand:['Three of Hearts', 'Ten of Hearts']\n",
      "Chocco's hand:['Queen of Hearts', 'Eight of Diamonds']\n",
      "Oreo's hand:['Four of Diamonds', 'Three of Diamonds']\n"
     ]
    }
   ],
   "source": [
    "print(\"The cards are dealt...\")\n",
    "\n",
    "hand = {}\n",
    "\n",
    "for p in Players:\n",
    "    cards = random.sample(Deck, k=2)\n",
    "    for d in cards:\n",
    "            Deck.remove(d)         \n",
    "    hand[p] = cards\n",
    "    print(p + \"'s hand:\" + str(cards))"
   ]
  },
  {
   "cell_type": "code",
   "execution_count": 37,
   "id": "2e0e47d4-3f49-4192-95f6-4d1d97084ccc",
   "metadata": {
    "scrolled": true
   },
   "outputs": [
    {
     "name": "stdout",
     "output_type": "stream",
     "text": [
      "Time to flop!\n"
     ]
    }
   ],
   "source": [
    "if len(Deck) == 52 - len(Players)*2:\n",
    "    print(\"Time to flop!\")\n",
    "else:\n",
    "    print(\"No\")"
   ]
  },
  {
   "cell_type": "markdown",
   "id": "ce80f6a5-e1c4-4331-b6dd-63878592a928",
   "metadata": {},
   "source": [
    "Now we need to add a flop, a turn, and a river including burning one card from the deck"
   ]
  },
  {
   "cell_type": "code",
   "execution_count": 40,
   "id": "aa9c4c27-06f7-48d4-ab4b-ac0733e55c5a",
   "metadata": {},
   "outputs": [],
   "source": [
    "Deck.remove(random.choice(Deck)) #This burns adequately\n"
   ]
  },
  {
   "cell_type": "code",
   "execution_count": 42,
   "id": "e1c40846-c7e9-4031-9045-4e31ed2ebd15",
   "metadata": {},
   "outputs": [
    {
     "name": "stdout",
     "output_type": "stream",
     "text": [
      "Flop: ['Nine of Hearts', 'Jack of Clubs', 'Seven of Clubs']\n"
     ]
    }
   ],
   "source": [
    "#I want to select three cards, burn them from the deck, and print them.\n",
    "\n",
    "flop = random.sample(Deck, k=3)\n",
    "print('Flop: ' + str(flop))\n",
    "\n",
    "for card in flop:\n",
    "    Deck.remove(card)"
   ]
  },
  {
   "cell_type": "code",
   "execution_count": 44,
   "id": "bc1e1527-5295-4bbc-aed5-145db36d1fad",
   "metadata": {},
   "outputs": [
    {
     "name": "stdout",
     "output_type": "stream",
     "text": [
      "Time to Turn!\n"
     ]
    }
   ],
   "source": [
    "if len(Deck) == 52 - (len(Players)*2 + 4):\n",
    "    print(\"Time to Turn!\")\n",
    "else:\n",
    "    print(\"No\")"
   ]
  },
  {
   "cell_type": "code",
   "execution_count": 46,
   "id": "544bcc56-1788-4916-848f-e4c3ff5ae2f3",
   "metadata": {},
   "outputs": [
    {
     "name": "stdout",
     "output_type": "stream",
     "text": [
      "Turn: Jack of Hearts\n"
     ]
    }
   ],
   "source": [
    "#The Turn\n",
    "Deck.remove(random.choice(Deck))\n",
    "\n",
    "turn = random.choice(Deck)\n",
    "print('Turn: ' + str(turn))\n",
    "\n",
    "Deck.remove(turn)\n"
   ]
  },
  {
   "cell_type": "code",
   "execution_count": 48,
   "id": "a13f94ab-866c-40b6-a8fb-011e96ef53ea",
   "metadata": {},
   "outputs": [
    {
     "name": "stdout",
     "output_type": "stream",
     "text": [
      "Ready to River?\n"
     ]
    }
   ],
   "source": [
    "if len(Deck) == 52 - (len(Players)*2 + 6):\n",
    "    print(\"Ready to River?\")\n",
    "else:\n",
    "    print(\"No\")"
   ]
  },
  {
   "cell_type": "code",
   "execution_count": 50,
   "id": "ad6d00e7-0f8d-465c-a108-fbf27628829b",
   "metadata": {},
   "outputs": [
    {
     "name": "stdout",
     "output_type": "stream",
     "text": [
      "River: Five of Diamonds\n"
     ]
    }
   ],
   "source": [
    "#The River\n",
    "Deck.remove(random.choice(Deck))\n",
    "\n",
    "river = random.choice(Deck)\n",
    "print('River: ' + str(river))\n",
    "\n",
    "Deck.remove(river)\n",
    "\n",
    "community = [[flop], [turn], [river]]\n"
   ]
  },
  {
   "cell_type": "code",
   "execution_count": 52,
   "id": "7a49b03c-01ca-4949-af30-c0ff792d7dfa",
   "metadata": {},
   "outputs": [
    {
     "name": "stdout",
     "output_type": "stream",
     "text": [
      "[[['Nine of Hearts', 'Jack of Clubs', 'Seven of Clubs']], ['Jack of Hearts'], ['Five of Diamonds']]\n"
     ]
    }
   ],
   "source": [
    "print(community)"
   ]
  },
  {
   "cell_type": "code",
   "execution_count": 25,
   "id": "4cd96cde-54a1-4f86-aaeb-92635999903b",
   "metadata": {},
   "outputs": [
    {
     "name": "stdout",
     "output_type": "stream",
     "text": [
      "A succesful game!\n"
     ]
    }
   ],
   "source": [
    "if len(Deck) == 36:\n",
    "                 print(\"A succesful game!\")\n",
    "else:\n",
    "        print(\"You done fucked up.\")\n"
   ]
  },
  {
   "cell_type": "markdown",
   "id": "2934a732-8521-4bc0-abc1-8ed61b5044fa",
   "metadata": {},
   "source": [
    "Now, a really big project would be to choose a winner...\n",
    "\n",
    "Firstly, I'd need to store each player's hand. Could I add an index no to the end? As below: I think so, but maybe not with that syntax, so not an index...\n",
    "\n",
    "for p in Players:\n",
    "    cards[p] = random.sample(Deck, k=2) - This did not work. At all. Created it with a dictionary (Done!)\n",
    "\n",
    "Anyway, then I'd need a list of poker hands in order with a numerical value attached. (In progress)\n",
    "\n",
    "Turn the dealt hands into a list called 'community', then we can search more easily (Done)\n",
    "\n",
    "List of poker hands to check would be tough... \n",
    "\n",
    "I'd then need a new if, in case two players have the same score, to check for a highest card, then print the winner?!??!"
   ]
  },
  {
   "cell_type": "code",
   "execution_count": 53,
   "id": "85d1e976-8ea6-4d33-8877-4a8e622c112a",
   "metadata": {},
   "outputs": [],
   "source": [
    "redeal()"
   ]
  },
  {
   "cell_type": "code",
   "execution_count": 177,
   "id": "dca7b333-75d8-44c2-94b8-cffaab51118b",
   "metadata": {},
   "outputs": [],
   "source": [
    "Scoring = {'Royal Flush': 10, 'Straight Flush': 9, 'Four of a kKind': 8, 'Full House': 7, \\\n",
    "'Flush': 6, 'Straight': 5, 'Three of a Kind': 4, 'Two Pair': 3, 'Pair': 2, 'High Card': 1}"
   ]
  },
  {
   "cell_type": "markdown",
   "id": "6be14e67-65d7-47d8-a8d5-bdc01ff8b73b",
   "metadata": {},
   "source": [
    "Let's say we just want to check for royal flush...\n",
    "\n",
    "Loop through every player\n",
    "Loop through every dealt hand (although in such a way"
   ]
  },
  {
   "cell_type": "code",
   "execution_count": null,
   "id": "182470dd-d3c1-4ed6-9775-29a09dc86e12",
   "metadata": {},
   "outputs": [],
   "source": [
    "New_Deck = "
   ]
  }
 ],
 "metadata": {
  "kernelspec": {
   "display_name": "Python [conda env:base] *",
   "language": "python",
   "name": "conda-base-py"
  },
  "language_info": {
   "codemirror_mode": {
    "name": "ipython",
    "version": 3
   },
   "file_extension": ".py",
   "mimetype": "text/x-python",
   "name": "python",
   "nbconvert_exporter": "python",
   "pygments_lexer": "ipython3",
   "version": "3.12.7"
  }
 },
 "nbformat": 4,
 "nbformat_minor": 5
}
