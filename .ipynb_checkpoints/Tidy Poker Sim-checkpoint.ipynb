{
 "cells": [
  {
   "cell_type": "code",
   "execution_count": 25,
   "id": "b1b6ae58-e00e-4599-bc3e-3656e6f31813",
   "metadata": {},
   "outputs": [
    {
     "name": "stdout",
     "output_type": "stream",
     "text": [
      "Let's get ready to rumble!!!\n"
     ]
    }
   ],
   "source": [
    "import random\n",
    "import pprint\n",
    "\n",
    "Deck = list(range(1,53))\n",
    "\n",
    "Deck[0]= 'Ace of Hearts'\n",
    "Deck[1]= 'Ace of Spades'\n",
    "Deck[2]= 'Ace of Diamonds'\n",
    "Deck[3]= 'Ace of Clubs'\n",
    "Deck[4]= 'Two of Hearts'\n",
    "Deck[5]= 'Two of Spades'\n",
    "Deck[6]= 'Two of Diamonds'\n",
    "Deck[7]= 'Two of Clubs'\n",
    "Deck[8]= 'Three of Hearts'\n",
    "Deck[9]= 'Three of Spades'\n",
    "Deck[10]= 'Three of Diamonds'\n",
    "Deck[11]= 'Three of Clubs'\n",
    "Deck[12]= 'Four of Hearts'\n",
    "Deck[13]= 'Four of Spades'\n",
    "Deck[14]= 'Four of Diamonds'\n",
    "Deck[15]= 'Four of Clubs'\n",
    "Deck[16]= 'Five of Hearts'\n",
    "Deck[17]= 'Five of Spades'\n",
    "Deck[18]= 'Five of Diamonds'\n",
    "Deck[19]= 'Five of Clubs'\n",
    "Deck[20]= 'Six of Hearts'\n",
    "Deck[21]= 'Six of Spades'\n",
    "Deck[22]= 'Six of Diamonds'\n",
    "Deck[23]= 'Six of Clubs'\n",
    "Deck[24]= 'Seven of Hearts'\n",
    "Deck[25]= 'Seven of Spades'\n",
    "Deck[26]= 'Seven of Diamonds'\n",
    "Deck[27]= 'Seven of Clubs'\n",
    "Deck[28]= 'Eight of Hearts'\n",
    "Deck[29]= 'Eight of Spades'\n",
    "Deck[30]= 'Eight of Diamonds'\n",
    "Deck[31]= 'Eight of Clubs'\n",
    "Deck[32]= 'Nine of Hearts'\n",
    "Deck[33]= 'Nine of Spades'\n",
    "Deck[34]= 'Nine of Diamonds'\n",
    "Deck[35]= 'Nine of Clubs'\n",
    "Deck[36]= 'Ten of Hearts'\n",
    "Deck[37]= 'Ten of Spades'\n",
    "Deck[38]= 'Ten of Diamonds'\n",
    "Deck[39]= 'Ten of Clubs'\n",
    "Deck[40]= 'Jack of Hearts'\n",
    "Deck[41]= 'Jack of Spades'\n",
    "Deck[42]= 'Jack of Diamonds'\n",
    "Deck[43]= 'Jack of Clubs'\n",
    "Deck[44]= 'Queen of Hearts'\n",
    "Deck[45]= 'Queen of Spades'\n",
    "Deck[46]= 'Queen of Diamonds'\n",
    "Deck[47]= 'Queen of Clubs'\n",
    "Deck[48]= 'King of Hearts'\n",
    "Deck[49]= 'King of Spades'\n",
    "Deck[50]= 'King of Diamonds'\n",
    "Deck[51]= 'King of Clubs'\n",
    "\n",
    "Players = ['Ben', 'My Anh', 'Chocco', 'Oreo', 'Jason X']\n",
    "\n",
    "if len(Deck) == 52:\n",
    "    print(\"Let's get ready to rumble!!!\")"
   ]
  },
  {
   "cell_type": "code",
   "execution_count": null,
   "id": "54c651ec-43c2-4a1d-ba5c-dbec579ccb52",
   "metadata": {},
   "outputs": [],
   "source": [
    "#Working version of above for player inputs\n",
    "import random\n",
    "\n",
    "Deck = list(range(1,53))\n",
    "\n",
    "Deck[0]= 'Ace of Hearts'\n",
    "Deck[1]= 'Ace of Spades'\n",
    "Deck[2]= 'Ace of Diamonds'\n",
    "Deck[3]= 'Ace of Clubs'\n",
    "Deck[4]= 'Two of Hearts'\n",
    "Deck[5]= 'Two of Spades'\n",
    "Deck[6]= 'Two of Diamonds'\n",
    "Deck[7]= 'Two of Clubs'\n",
    "Deck[8]= 'Three of Hearts'\n",
    "Deck[9]= 'Three of Spades'\n",
    "Deck[10]= 'Three of Diamonds'\n",
    "Deck[11]= 'Three of Clubs'\n",
    "Deck[12]= 'Four of Hearts'\n",
    "Deck[13]= 'Four of Spades'\n",
    "Deck[14]= 'Four of Diamonds'\n",
    "Deck[15]= 'Four of Clubs'\n",
    "Deck[16]= 'Five of Hearts'\n",
    "Deck[17]= 'Five of Spades'\n",
    "Deck[18]= 'Five of Diamonds'\n",
    "Deck[19]= 'Five of Clubs'\n",
    "Deck[20]= 'Six of Hearts'\n",
    "Deck[21]= 'Six of Spades'\n",
    "Deck[22]= 'Six of Diamonds'\n",
    "Deck[23]= 'Six of Clubs'\n",
    "Deck[24]= 'Seven of Hearts'\n",
    "Deck[25]= 'Seven of Spades'\n",
    "Deck[26]= 'Seven of Diamonds'\n",
    "Deck[27]= 'Seven of Clubs'\n",
    "Deck[28]= 'Eight of Hearts'\n",
    "Deck[29]= 'Eight of Spades'\n",
    "Deck[30]= 'Eight of Diamonds'\n",
    "Deck[31]= 'Eight of Clubs'\n",
    "Deck[32]= 'Nine of Hearts'\n",
    "Deck[33]= 'Nine of Spades'\n",
    "Deck[34]= 'Nine of Diamonds'\n",
    "Deck[35]= 'Nine of Clubs'\n",
    "Deck[36]= 'Ten of Hearts'\n",
    "Deck[37]= 'Ten of Spades'\n",
    "Deck[38]= 'Ten of Diamonds'\n",
    "Deck[39]= 'Ten of Clubs'\n",
    "Deck[40]= 'Jack of Hearts'\n",
    "Deck[41]= 'Jack of Spades'\n",
    "Deck[42]= 'Jack of Diamonds'\n",
    "Deck[43]= 'Jack of Clubs'\n",
    "Deck[44]= 'Queen of Hearts'\n",
    "Deck[45]= 'Queen of Spades'\n",
    "Deck[46]= 'Queen of Diamonds'\n",
    "Deck[47]= 'Queen of Clubs'\n",
    "Deck[48]= 'King of Hearts'\n",
    "Deck[49]= 'King of Spades'\n",
    "Deck[50]= 'King of Diamonds'\n",
    "Deck[51]= 'King of Clubs'\n"
   ]
  },
  {
   "cell_type": "code",
   "execution_count": null,
   "id": "e7eb7175-ff74-4448-b3d6-f1a9aeca95c3",
   "metadata": {},
   "outputs": [],
   "source": [
    "# This work perfectly to input players names\n",
    "\n",
    "Players = []\n",
    "if len(Deck) == 52:\n",
    "    while True:\n",
    "        print(\"How many players would you like in your game? (2-11)\") #Add blank for naming as 'Player 1' etc.\n",
    "        no_players = int(input())\n",
    "        if no_players in range(2,12):\n",
    "            for x in range(no_players):\n",
    "                print(\"Player \" + str(x+1) + \" Name:\")\n",
    "                Players.append(str(input()))\n",
    "            break\n",
    "        else:\n",
    "            print(\"Please select between 2 and 11 players\")\n",
    "    print(\"Let's get ready to rumble!!!\")\n",
    "else:\n",
    "    print(\"Deck has not been shuffled! Please return to start.\")"
   ]
  },
  {
   "cell_type": "code",
   "execution_count": null,
   "id": "c1abcd53-0115-4ca0-a28d-92fad9631a9c",
   "metadata": {},
   "outputs": [],
   "source": [
    "# Adding the blank input\n",
    "\n",
    "Players = []\n",
    "if len(Deck) == 52:\n",
    "    while True:\n",
    "        print(\"How many players would you like in your game? (2-11)\") #Add blank for naming as 'Player 1' etc.\n",
    "        no_players = int(input())\n",
    "        if no_players in range(2,12):\n",
    "            for x in range(no_players):\n",
    "                print(\"Player \" + str(x+1) + \" Name:\")\n",
    "                Players.append(str(input()))\n",
    "            break\n",
    "        elif no_players.isna():\n",
    "            rand_names = ['David','John','Meryl','Eva','Hal','Emma','Jack','Rose','Roy','Naomi','Frank']\n",
    "        else:\n",
    "            print(\"Please select between 2 and 11 players\")\n",
    "    print(\"Let's get ready to rumble!!!\")\n",
    "else:\n",
    "    print(\"Deck has not been shuffled! Please return to start.\")"
   ]
  },
  {
   "cell_type": "code",
   "execution_count": null,
   "id": "b8cdd34b-e4bc-4f7e-96e2-2960d3f70841",
   "metadata": {},
   "outputs": [],
   "source": [
    "# Adding the blank input Part 2 so as not to mess up the above...\n",
    "\n",
    "Players = []\n",
    "if len(Deck) == 52:\n",
    "    while True:\n",
    "        print(\"How many players would you like in your game? (2-11)\") #Add blank for naming as 'Player 1' etc.\n",
    "        no_players = int(input())\n",
    "        if no_players in range(2,12):\n",
    "            for x in range(no_players):\n",
    "                msg = print(\"Player \" + str(x+1) + \" Name:\")\n",
    "                if x == 0:\n",
    "                    print(str(msg) + \" (Leave blank for random names\")\n",
    "                    Players.append(str(input()))\n",
    "                else:\n",
    "                    print(str(msg))\n",
    "                    Players.append(str(input()))\n",
    "            break\n",
    "        elif no_players.isna():\n",
    "            rand_names = ['David','John','Meryl','Eva','Hal','Emma','Jack','Rose','Roy','Naomi','Frank']\n",
    "        else:\n",
    "            print(\"Please select between 2 and 11 players\")\n",
    "    print(\"Let's get ready to rumble!!!\")\n",
    "else:\n",
    "    print(\"Deck has not been shuffled! Please return to start.\")"
   ]
  },
  {
   "cell_type": "code",
   "execution_count": 27,
   "id": "6a71c6c8-00a5-4891-8c40-1c67a3165ff1",
   "metadata": {},
   "outputs": [
    {
     "name": "stdout",
     "output_type": "stream",
     "text": [
      "How many players would you like in your game? (2-11)\n"
     ]
    },
    {
     "name": "stdin",
     "output_type": "stream",
     "text": [
      " 2\n"
     ]
    },
    {
     "name": "stdout",
     "output_type": "stream",
     "text": [
      "Player 1 Name:\n",
      "None (Leave blank for random names)\n"
     ]
    },
    {
     "name": "stdin",
     "output_type": "stream",
     "text": [
      " \n"
     ]
    },
    {
     "name": "stdout",
     "output_type": "stream",
     "text": [
      "\"This game will be played by: ['Jack', 'David']\"\n",
      "\"Let's get ready to rumble!!!\"\n"
     ]
    }
   ],
   "source": [
    "# Adding the blank input part 3. Still working on the blank input (seems to work now!)\n",
    "\n",
    "Players = []\n",
    "if len(Deck) == 52:\n",
    "    while True:\n",
    "        print(\"How many players would you like in your game? (2-11)\") #Add blank for naming as 'Player 1' etc.\n",
    "        no_players = int(input())\n",
    "        if no_players in range(2,12):\n",
    "            for x in range(no_players):\n",
    "                msg = print(\"Player \" + str(x+1) + \" Name:\")\n",
    "                if x == 0:\n",
    "                    print(str(msg) + \" (Leave blank for random names)\")\n",
    "                    first_name = str(input())\n",
    "                    if first_name == \"\":\n",
    "                        rand_names = ['David','John','Meryl','Eva','Hal','Emma','Jack','Rose','Roy','Naomi','Frank']\n",
    "                        Players = random.sample(rand_names,k=no_players)\n",
    "                        break\n",
    "                    Players.append(str(first_name))\n",
    "                else:\n",
    "                    print(str(msg))\n",
    "                    Players.append(str(input()))\n",
    "            break\n",
    "            rand_names = ['David','John','Meryl','Eva','Hal','Emma','Jack','Rose','Roy','Naomi','Frank']\n",
    "        else:\n",
    "            print(\"Please select between 2 and 11 players\")\n",
    "\n",
    "# 31/7 THIS IS WHERE I AM RIGHT NOW\n",
    "    #LOOK HERE YOU FOOL!\n",
    "#Looking for a way to print this nicely, which can then be applied to the prints below, hopefully!\n",
    "    pprint.pprint(\"This game will be played by: \" + str(Players))\n",
    "    pprint.pprint(\"Let's get ready to rumble!!!\")\n",
    "else:\n",
    "    print(\"Deck has not been shuffled! Please return to start.\")"
   ]
  },
  {
   "cell_type": "code",
   "execution_count": null,
   "id": "eb53567d-02a8-4a62-8b8c-64100146dd23",
   "metadata": {},
   "outputs": [],
   "source": [
    "print(\"The cards are dealt...\")\n",
    "\n",
    "for p in Players:\n",
    "    cards = random.sample(Deck, k=2)\n",
    "    for d in cards:\n",
    "            Deck.remove(d)         \n",
    "    print(p + \"'s hand:\" + str(cards))"
   ]
  },
  {
   "cell_type": "code",
   "execution_count": null,
   "id": "da7389f6-996d-4d8b-a737-0a2e2fd2dfb6",
   "metadata": {},
   "outputs": [],
   "source": [
    "if len(Deck) == 52 - len(Players)*2:\n",
    "    print(\"Time to flop!\")\n",
    "else:\n",
    "    print(\"No\")"
   ]
  },
  {
   "cell_type": "code",
   "execution_count": null,
   "id": "8b0f38be-fe31-4925-873d-7a65dff940b2",
   "metadata": {},
   "outputs": [],
   "source": [
    "Deck.remove(random.choice(Deck)) #Burns a single card\n",
    "\n",
    "flop = random.sample(Deck, k=3)\n",
    "print('Flop: ' + str(flop))\n",
    "\n",
    "for card in flop:\n",
    "    Deck.remove(card)"
   ]
  },
  {
   "cell_type": "code",
   "execution_count": null,
   "id": "0951c769-d8d7-4bed-af2f-f9193da8fcf0",
   "metadata": {},
   "outputs": [],
   "source": [
    "if len(Deck) == 52 - (len(Players)*2 + 4):\n",
    "    print(\"Time to Turn!\")\n",
    "else:\n",
    "    print(\"No\")"
   ]
  },
  {
   "cell_type": "code",
   "execution_count": null,
   "id": "8611d5df-29b5-4feb-b855-a78f40805650",
   "metadata": {},
   "outputs": [],
   "source": [
    "Deck.remove(random.choice(Deck))\n",
    "\n",
    "turn = random.choice(Deck)\n",
    "print('Turn: ' + str(turn))\n",
    "\n",
    "Deck.remove(turn)"
   ]
  },
  {
   "cell_type": "code",
   "execution_count": null,
   "id": "579daafd-9e6d-456a-b80d-f455b77c4166",
   "metadata": {},
   "outputs": [],
   "source": [
    "if len(Deck) == 52 - (len(Players)*2 + 6):\n",
    "    print(\"Ready to River?\")\n",
    "else:\n",
    "    print(\"No\")"
   ]
  },
  {
   "cell_type": "code",
   "execution_count": null,
   "id": "ef8bc594-9354-4996-beba-9b9563b999fa",
   "metadata": {},
   "outputs": [],
   "source": [
    "Deck.remove(random.choice(Deck))\n",
    "\n",
    "river = random.choice(Deck)\n",
    "print('River: ' + str(river))\n",
    "\n",
    "Deck.remove(river)"
   ]
  },
  {
   "cell_type": "code",
   "execution_count": null,
   "id": "4f535db7-932c-4f69-80d5-6623be3b926f",
   "metadata": {},
   "outputs": [],
   "source": [
    "if len(Deck) == 52 - (len(Players)*2 + 8):\n",
    "                 print(\"A succesful game!\")\n",
    "else:\n",
    "        print(\"You done fucked up.\")"
   ]
  },
  {
   "cell_type": "code",
   "execution_count": null,
   "id": "01b64096-7dd4-4737-9f07-bd722e76bdf6",
   "metadata": {},
   "outputs": [],
   "source": []
  }
 ],
 "metadata": {
  "kernelspec": {
   "display_name": "Python [conda env:base] *",
   "language": "python",
   "name": "conda-base-py"
  },
  "language_info": {
   "codemirror_mode": {
    "name": "ipython",
    "version": 3
   },
   "file_extension": ".py",
   "mimetype": "text/x-python",
   "name": "python",
   "nbconvert_exporter": "python",
   "pygments_lexer": "ipython3",
   "version": "3.12.7"
  }
 },
 "nbformat": 4,
 "nbformat_minor": 5
}
