{
 "cells": [
  {
   "cell_type": "code",
   "execution_count": 19,
   "id": "b1b6ae58-e00e-4599-bc3e-3656e6f31813",
   "metadata": {},
   "outputs": [
    {
     "name": "stdout",
     "output_type": "stream",
     "text": [
      "Let's get ready to rumble!!!\n"
     ]
    }
   ],
   "source": [
    "import random\n",
    "\n",
    "Deck = list(range(1,53))\n",
    "\n",
    "Deck[0]= 'Ace of Hearts'\n",
    "Deck[1]= 'Ace of Spades'\n",
    "Deck[2]= 'Ace of Diamonds'\n",
    "Deck[3]= 'Ace of Clubs'\n",
    "Deck[4]= 'Two of Hearts'\n",
    "Deck[5]= 'Two of Spades'\n",
    "Deck[6]= 'Two of Diamonds'\n",
    "Deck[7]= 'Two of Clubs'\n",
    "Deck[8]= 'Three of Hearts'\n",
    "Deck[9]= 'Three of Spades'\n",
    "Deck[10]= 'Three of Diamonds'\n",
    "Deck[11]= 'Three of Clubs'\n",
    "Deck[12]= 'Four of Hearts'\n",
    "Deck[13]= 'Four of Spades'\n",
    "Deck[14]= 'Four of Diamonds'\n",
    "Deck[15]= 'Four of Clubs'\n",
    "Deck[16]= 'Five of Hearts'\n",
    "Deck[17]= 'Five of Spades'\n",
    "Deck[18]= 'Five of Diamonds'\n",
    "Deck[19]= 'Five of Clubs'\n",
    "Deck[20]= 'Six of Hearts'\n",
    "Deck[21]= 'Six of Spades'\n",
    "Deck[22]= 'Six of Diamonds'\n",
    "Deck[23]= 'Six of Clubs'\n",
    "Deck[24]= 'Seven of Hearts'\n",
    "Deck[25]= 'Seven of Spades'\n",
    "Deck[26]= 'Seven of Diamonds'\n",
    "Deck[27]= 'Seven of Clubs'\n",
    "Deck[28]= 'Eight of Hearts'\n",
    "Deck[29]= 'Eight of Spades'\n",
    "Deck[30]= 'Eight of Diamonds'\n",
    "Deck[31]= 'Eight of Clubs'\n",
    "Deck[32]= 'Nine of Hearts'\n",
    "Deck[33]= 'Nine of Spades'\n",
    "Deck[34]= 'Nine of Diamonds'\n",
    "Deck[35]= 'Nine of Clubs'\n",
    "Deck[36]= 'Ten of Hearts'\n",
    "Deck[37]= 'Ten of Spades'\n",
    "Deck[38]= 'Ten of Diamonds'\n",
    "Deck[39]= 'Ten of Clubs'\n",
    "Deck[40]= 'Jack of Hearts'\n",
    "Deck[41]= 'Jack of Spades'\n",
    "Deck[42]= 'Jack of Diamonds'\n",
    "Deck[43]= 'Jack of Clubs'\n",
    "Deck[44]= 'Queen of Hearts'\n",
    "Deck[45]= 'Queen of Spades'\n",
    "Deck[46]= 'Queen of Diamonds'\n",
    "Deck[47]= 'Queen of Clubs'\n",
    "Deck[48]= 'King of Hearts'\n",
    "Deck[49]= 'King of Spades'\n",
    "Deck[50]= 'King of Diamonds'\n",
    "Deck[51]= 'King of Clubs'\n",
    "\n",
    "Players = ['Ben', 'My Anh', 'Chocco', 'Oreo', 'Jason X']\n",
    "\n",
    "if len(Deck) == 52:\n",
    "    print(\"Let's get ready to rumble!!!\")"
   ]
  },
  {
   "cell_type": "code",
   "execution_count": 21,
   "id": "eb53567d-02a8-4a62-8b8c-64100146dd23",
   "metadata": {},
   "outputs": [
    {
     "name": "stdout",
     "output_type": "stream",
     "text": [
      "The cards are dealt...\n",
      "Ben's hand:['Nine of Spades', 'Five of Clubs']\n",
      "My Anh's hand:['Nine of Hearts', 'Ace of Diamonds']\n",
      "Chocco's hand:['Eight of Spades', 'Queen of Hearts']\n",
      "Oreo's hand:['Jack of Diamonds', 'Two of Clubs']\n",
      "Jason X's hand:['Eight of Hearts', 'Eight of Diamonds']\n"
     ]
    }
   ],
   "source": [
    "print(\"The cards are dealt...\")\n",
    "\n",
    "for p in Players:\n",
    "    cards = random.sample(Deck, k=2)\n",
    "    for d in cards:\n",
    "            Deck.remove(d)         \n",
    "    print(p + \"'s hand:\" + str(cards))"
   ]
  },
  {
   "cell_type": "code",
   "execution_count": 23,
   "id": "da7389f6-996d-4d8b-a737-0a2e2fd2dfb6",
   "metadata": {},
   "outputs": [
    {
     "name": "stdout",
     "output_type": "stream",
     "text": [
      "Time to flop!\n"
     ]
    }
   ],
   "source": [
    "if len(Deck) == 52 - len(Players)*2:\n",
    "    print(\"Time to flop!\")\n",
    "else:\n",
    "    print(\"No\")"
   ]
  },
  {
   "cell_type": "code",
   "execution_count": 25,
   "id": "8b0f38be-fe31-4925-873d-7a65dff940b2",
   "metadata": {},
   "outputs": [
    {
     "name": "stdout",
     "output_type": "stream",
     "text": [
      "Flop: ['King of Hearts', 'Four of Hearts', 'Nine of Diamonds']\n"
     ]
    }
   ],
   "source": [
    "Deck.remove(random.choice(Deck))\n",
    "\n",
    "flop = random.sample(Deck, k=3)\n",
    "print('Flop: ' + str(flop))\n",
    "\n",
    "for card in flop:\n",
    "    Deck.remove(card)"
   ]
  },
  {
   "cell_type": "code",
   "execution_count": 27,
   "id": "0951c769-d8d7-4bed-af2f-f9193da8fcf0",
   "metadata": {},
   "outputs": [
    {
     "name": "stdout",
     "output_type": "stream",
     "text": [
      "Time to Turn!\n"
     ]
    }
   ],
   "source": [
    "if len(Deck) == 52 - (len(Players)*2 + 4):\n",
    "    print(\"Time to Turn!\")\n",
    "else:\n",
    "    print(\"No\")"
   ]
  },
  {
   "cell_type": "code",
   "execution_count": 29,
   "id": "8611d5df-29b5-4feb-b855-a78f40805650",
   "metadata": {},
   "outputs": [
    {
     "name": "stdout",
     "output_type": "stream",
     "text": [
      "Turn: Six of Hearts\n"
     ]
    }
   ],
   "source": [
    "Deck.remove(random.choice(Deck))\n",
    "\n",
    "turn = random.choice(Deck)\n",
    "print('Turn: ' + str(turn))\n",
    "\n",
    "Deck.remove(turn)"
   ]
  },
  {
   "cell_type": "code",
   "execution_count": 31,
   "id": "579daafd-9e6d-456a-b80d-f455b77c4166",
   "metadata": {},
   "outputs": [
    {
     "name": "stdout",
     "output_type": "stream",
     "text": [
      "Ready to River?\n"
     ]
    }
   ],
   "source": [
    "if len(Deck) == 52 - (len(Players)*2 + 6):\n",
    "    print(\"Ready to River?\")\n",
    "else:\n",
    "    print(\"No\")"
   ]
  },
  {
   "cell_type": "code",
   "execution_count": 33,
   "id": "ef8bc594-9354-4996-beba-9b9563b999fa",
   "metadata": {},
   "outputs": [
    {
     "name": "stdout",
     "output_type": "stream",
     "text": [
      "River: Jack of Clubs\n"
     ]
    }
   ],
   "source": [
    "Deck.remove(random.choice(Deck))\n",
    "\n",
    "river = random.choice(Deck)\n",
    "print('River: ' + str(river))\n",
    "\n",
    "Deck.remove(river)"
   ]
  },
  {
   "cell_type": "code",
   "execution_count": 37,
   "id": "4f535db7-932c-4f69-80d5-6623be3b926f",
   "metadata": {},
   "outputs": [
    {
     "name": "stdout",
     "output_type": "stream",
     "text": [
      "A succesful game!\n"
     ]
    }
   ],
   "source": [
    "if len(Deck) == 52 - (len(Players)*2 + 8):\n",
    "                 print(\"A succesful game!\")\n",
    "else:\n",
    "        print(\"You done fucked up.\")"
   ]
  },
  {
   "cell_type": "code",
   "execution_count": null,
   "id": "01b64096-7dd4-4737-9f07-bd722e76bdf6",
   "metadata": {},
   "outputs": [],
   "source": []
  }
 ],
 "metadata": {
  "kernelspec": {
   "display_name": "Python [conda env:base] *",
   "language": "python",
   "name": "conda-base-py"
  },
  "language_info": {
   "codemirror_mode": {
    "name": "ipython",
    "version": 3
   },
   "file_extension": ".py",
   "mimetype": "text/x-python",
   "name": "python",
   "nbconvert_exporter": "python",
   "pygments_lexer": "ipython3",
   "version": "3.12.7"
  }
 },
 "nbformat": 4,
 "nbformat_minor": 5
}
