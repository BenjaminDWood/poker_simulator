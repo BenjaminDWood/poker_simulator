{
 "cells": [
  {
   "cell_type": "code",
   "execution_count": 16,
   "id": "54c651ec-43c2-4a1d-ba5c-dbec579ccb52",
   "metadata": {},
   "outputs": [],
   "source": [
    "import random\n",
    "import pprint\n",
    "import time\n",
    "\n",
    "Deck = list(range(1,53))\n",
    "\n",
    "Deck[0]= 'Ace of Hearts'\n",
    "Deck[1]= 'Ace of Spades'\n",
    "Deck[2]= 'Ace of Diamonds'\n",
    "Deck[3]= 'Ace of Clubs'\n",
    "Deck[4]= 'Two of Hearts'\n",
    "Deck[5]= 'Two of Spades'\n",
    "Deck[6]= 'Two of Diamonds'\n",
    "Deck[7]= 'Two of Clubs'\n",
    "Deck[8]= 'Three of Hearts'\n",
    "Deck[9]= 'Three of Spades'\n",
    "Deck[10]= 'Three of Diamonds'\n",
    "Deck[11]= 'Three of Clubs'\n",
    "Deck[12]= 'Four of Hearts'\n",
    "Deck[13]= 'Four of Spades'\n",
    "Deck[14]= 'Four of Diamonds'\n",
    "Deck[15]= 'Four of Clubs'\n",
    "Deck[16]= 'Five of Hearts'\n",
    "Deck[17]= 'Five of Spades'\n",
    "Deck[18]= 'Five of Diamonds'\n",
    "Deck[19]= 'Five of Clubs'\n",
    "Deck[20]= 'Six of Hearts'\n",
    "Deck[21]= 'Six of Spades'\n",
    "Deck[22]= 'Six of Diamonds'\n",
    "Deck[23]= 'Six of Clubs'\n",
    "Deck[24]= 'Seven of Hearts'\n",
    "Deck[25]= 'Seven of Spades'\n",
    "Deck[26]= 'Seven of Diamonds'\n",
    "Deck[27]= 'Seven of Clubs'\n",
    "Deck[28]= 'Eight of Hearts'\n",
    "Deck[29]= 'Eight of Spades'\n",
    "Deck[30]= 'Eight of Diamonds'\n",
    "Deck[31]= 'Eight of Clubs'\n",
    "Deck[32]= 'Nine of Hearts'\n",
    "Deck[33]= 'Nine of Spades'\n",
    "Deck[34]= 'Nine of Diamonds'\n",
    "Deck[35]= 'Nine of Clubs'\n",
    "Deck[36]= 'Ten of Hearts'\n",
    "Deck[37]= 'Ten of Spades'\n",
    "Deck[38]= 'Ten of Diamonds'\n",
    "Deck[39]= 'Ten of Clubs'\n",
    "Deck[40]= 'Jack of Hearts'\n",
    "Deck[41]= 'Jack of Spades'\n",
    "Deck[42]= 'Jack of Diamonds'\n",
    "Deck[43]= 'Jack of Clubs'\n",
    "Deck[44]= 'Queen of Hearts'\n",
    "Deck[45]= 'Queen of Spades'\n",
    "Deck[46]= 'Queen of Diamonds'\n",
    "Deck[47]= 'Queen of Clubs'\n",
    "Deck[48]= 'King of Hearts'\n",
    "Deck[49]= 'King of Spades'\n",
    "Deck[50]= 'King of Diamonds'\n",
    "Deck[51]= 'King of Clubs'\n"
   ]
  },
  {
   "cell_type": "code",
   "execution_count": 17,
   "id": "6a71c6c8-00a5-4891-8c40-1c67a3165ff1",
   "metadata": {},
   "outputs": [
    {
     "name": "stdout",
     "output_type": "stream",
     "text": [
      "How many players would you like in your game? (2-11)\n"
     ]
    },
    {
     "name": "stdin",
     "output_type": "stream",
     "text": [
      " 11\n"
     ]
    },
    {
     "name": "stdout",
     "output_type": "stream",
     "text": [
      "Player 1 Name: (Leave blank for random names)\n"
     ]
    },
    {
     "name": "stdin",
     "output_type": "stream",
     "text": [
      " \n"
     ]
    },
    {
     "name": "stdout",
     "output_type": "stream",
     "text": [
      "This game will be played by: Roy, Eva, Jack, Frank, Rose, Meryl, David, John, Hal, Naomi, and Emma\n",
      "Let's get ready to rumble!!!\n"
     ]
    }
   ],
   "source": [
    "Players = []\n",
    "if len(Deck) == 52:\n",
    "    while True:\n",
    "        print(\"How many players would you like in your game? (2-11)\") #Add blank for naming as 'Player 1' etc.\n",
    "        no_players = int(input())\n",
    "        if no_players in range(2,12): #Check that there is a valid number of players\n",
    "            for x in range(no_players):\n",
    "                msg = \"Player \" + str(x+1) + \" Name:\"\n",
    "                if x == 0: #Allows user to skip individually naming players and assigns random names\n",
    "                    print(str(msg) + \" (Leave blank for random names)\")\n",
    "                    first_name = str(input())\n",
    "                    if first_name == \"\":\n",
    "                        rand_names = ['David','John','Meryl','Eva','Hal','Emma','Jack','Rose','Roy','Naomi','Frank']\n",
    "                        Players = random.sample(rand_names,k=no_players)\n",
    "                        break\n",
    "                    Players.append(str(first_name))\n",
    "                else:\n",
    "                    print(str(msg))\n",
    "                    Players.append(str(input()))\n",
    "            break\n",
    "        else:\n",
    "            print(\"Please select between 2 and 11 players\")\n",
    "                  \n",
    "#Summary of game setup printed below\n",
    "    print(\"This game will be played by:\", end=\" \")\n",
    "    \n",
    "    if len(Players) == 2:\n",
    "        print(*Players, sep=\" and \")\n",
    "    elif len(Players) > 2:\n",
    "        print(f\"{', '.join(Players[:-1])}, and {Players[-1]}\")\n",
    "    \n",
    "    time.sleep(2)\n",
    "\n",
    "    print(\"Let's get ready to rumble!!!\")\n",
    "    time.sleep(2)\n",
    "else:\n",
    "    print(\"Deck has not been shuffled! Please return to start.\")"
   ]
  },
  {
   "cell_type": "code",
   "execution_count": 18,
   "id": "eb53567d-02a8-4a62-8b8c-64100146dd23",
   "metadata": {},
   "outputs": [
    {
     "name": "stdout",
     "output_type": "stream",
     "text": [
      "The cards are dealt...\n",
      "Roy's hand: Nine of Hearts and Jack of Hearts\n",
      "Eva's hand: Three of Spades and King of Spades\n",
      "Jack's hand: Ace of Diamonds and Two of Clubs\n",
      "Frank's hand: Three of Diamonds and Four of Diamonds\n",
      "Rose's hand: Five of Diamonds and Nine of Spades\n",
      "Meryl's hand: Eight of Clubs and Four of Spades\n",
      "David's hand: Eight of Hearts and Two of Hearts\n",
      "John's hand: Ace of Clubs and King of Diamonds\n",
      "Hal's hand: Three of Clubs and Seven of Clubs\n",
      "Naomi's hand: Three of Hearts and Two of Diamonds\n",
      "Emma's hand: Jack of Clubs and Seven of Hearts\n"
     ]
    }
   ],
   "source": [
    "print(\"The cards are dealt...\")\n",
    "time.sleep(2)\n",
    "for p in Players:\n",
    "    cards = random.sample(Deck, k=2)\n",
    "    for d in cards:\n",
    "            Deck.remove(d)         \n",
    "    print(p + \"'s hand:\", end=\" \")\n",
    "    print(*cards, sep=\" and \")\n",
    "    #Adding in a conditional timer\n",
    "    if len(Players) <=5:\n",
    "        time.sleep(1)\n",
    "    else:\n",
    "        time.sleep(0.5)\n",
    "time.sleep(3)"
   ]
  },
  {
   "cell_type": "code",
   "execution_count": 22,
   "id": "da7389f6-996d-4d8b-a737-0a2e2fd2dfb6",
   "metadata": {},
   "outputs": [
    {
     "name": "stdout",
     "output_type": "stream",
     "text": [
      "An error has occurred. Perhaps John has been cheating? Please restart game.\n"
     ]
    }
   ],
   "source": [
    "if len(Deck) == 52 - len(Players)*2:\n",
    "    print(\"Feeling floppy?\")\n",
    "    time.sleep(2)\n",
    "else:\n",
    "    print(\"An error has occurred. Perhaps \" + random.choice(Players) + \" has been cheating? Please restart game.\")"
   ]
  },
  {
   "cell_type": "code",
   "execution_count": 20,
   "id": "8b0f38be-fe31-4925-873d-7a65dff940b2",
   "metadata": {},
   "outputs": [
    {
     "name": "stdout",
     "output_type": "stream",
     "text": [
      "Flop:  Two of Spades, Queen of Clubs, Ten of Spades\n"
     ]
    }
   ],
   "source": [
    "Deck.remove(random.choice(Deck)) #Burns a single card\n",
    "\n",
    "flop = random.sample(Deck, k=3)\n",
    "print('Flop: ', end=\" \")\n",
    "print(*flop, sep=\", \")\n",
    "comCar = flop.copy()\n",
    "\n",
    "for card in flop:\n",
    "    Deck.remove(card)\n",
    "\n",
    "time.sleep(2)"
   ]
  },
  {
   "cell_type": "code",
   "execution_count": 25,
   "id": "0951c769-d8d7-4bed-af2f-f9193da8fcf0",
   "metadata": {},
   "outputs": [
    {
     "name": "stdout",
     "output_type": "stream",
     "text": [
      "An error has occurred. Maybe a card has been lost up Eva's sleeve. Please restart game.\n"
     ]
    }
   ],
   "source": [
    "if len(Deck) == 52 - (len(Players)*2 + 4):\n",
    "    print(\"Time to Turn!\")\n",
    "else:\n",
    "    print(\"An error has occurred. Maybe a card has been lost up \" + random.choice(Players) + \"'s sleeve? Please restart game.\")\n",
    "time.sleep(2)"
   ]
  },
  {
   "cell_type": "code",
   "execution_count": 24,
   "id": "8611d5df-29b5-4feb-b855-a78f40805650",
   "metadata": {},
   "outputs": [
    {
     "name": "stdout",
     "output_type": "stream",
     "text": [
      "Turn: Six of Clubs\n",
      "Community cards: Two of Spades, Queen of Clubs, Ten of Spades, Six of Clubs\n"
     ]
    }
   ],
   "source": [
    "Deck.remove(random.choice(Deck))\n",
    "\n",
    "turn = random.choice(Deck)\n",
    "print('Turn: ' + turn)\n",
    "comCar.append(str(turn))\n",
    "time.sleep(1)\n",
    "print(\"Community cards:\", end=\" \")\n",
    "print(*comCar, sep=\", \")\n",
    "\n",
    "Deck.remove(turn)\n",
    "time.sleep(2)"
   ]
  },
  {
   "cell_type": "code",
   "execution_count": 8,
   "id": "579daafd-9e6d-456a-b80d-f455b77c4166",
   "metadata": {},
   "outputs": [
    {
     "name": "stdout",
     "output_type": "stream",
     "text": [
      "Ready to River?\n"
     ]
    }
   ],
   "source": [
    "if len(Deck) == 52 - (len(Players)*2 + 6):\n",
    "    print(\"Ready to River?\")\n",
    "else:\n",
    "    print(\"An error has occurred. Please restart game.\")\n",
    "\n",
    "time.sleep(2)"
   ]
  },
  {
   "cell_type": "code",
   "execution_count": 9,
   "id": "ef8bc594-9354-4996-beba-9b9563b999fa",
   "metadata": {},
   "outputs": [
    {
     "name": "stdout",
     "output_type": "stream",
     "text": [
      "River: Nine of Spades\n",
      "Community cards: Five of Clubs, Jack of Spades, Ace of Hearts, Two of Hearts, Nine of Spades\n"
     ]
    }
   ],
   "source": [
    "Deck.remove(random.choice(Deck))\n",
    "\n",
    "river = random.choice(Deck)\n",
    "print('River: ' + str(river))\n",
    "comCar.append(str(river))\n",
    "time.sleep(1)\n",
    "print(\"Community cards:\", end=\" \")\n",
    "print(*comCar, sep=\", \")\n",
    "\n",
    "\n",
    "Deck.remove(river)\n",
    "time.sleep(5)"
   ]
  },
  {
   "cell_type": "code",
   "execution_count": 10,
   "id": "4f535db7-932c-4f69-80d5-6623be3b926f",
   "metadata": {},
   "outputs": [
    {
     "name": "stdout",
     "output_type": "stream",
     "text": [
      "A succesful game!\n"
     ]
    }
   ],
   "source": [
    "if len(Deck) == 52 - (len(Players)*2 + 8):\n",
    "                 print(\"A succesful game!\")\n",
    "else:\n",
    "        print(\"You done messed up.\")"
   ]
  }
 ],
 "metadata": {
  "kernelspec": {
   "display_name": "Python [conda env:base] *",
   "language": "python",
   "name": "conda-base-py"
  },
  "language_info": {
   "codemirror_mode": {
    "name": "ipython",
    "version": 3
   },
   "file_extension": ".py",
   "mimetype": "text/x-python",
   "name": "python",
   "nbconvert_exporter": "python",
   "pygments_lexer": "ipython3",
   "version": "3.12.7"
  }
 },
 "nbformat": 4,
 "nbformat_minor": 5
}
